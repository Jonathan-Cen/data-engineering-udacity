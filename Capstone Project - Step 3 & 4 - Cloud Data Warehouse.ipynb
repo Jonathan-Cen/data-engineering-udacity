{
 "cells": [
  {
   "cell_type": "markdown",
   "metadata": {
    "editable": true
   },
   "source": [
    "# Data Lake - U.S. Immigration Data\n",
    "\n",
    "#### Data Engineering Capstone Project - Jonathan Cen\n",
    "\n",
    "#### Project Summary\n",
    "- A research center decides to study what U.S. cities are among the most popular destinations for immigrants such that they can propose a infrastucutre upgrade plan to the local governemnt.\n",
    "\n",
    "The project follows the follow steps:\n",
    "* Step 1: Scope the Project and Gather Data\n",
    "* Step 2: Explore and Assess the Data\n",
    "* Step 3: Define the Data Model\n",
    "* Step 4: Run ETL to Model the Data\n",
    "* Step 5: Complete Project Write Up"
   ]
  },
  {
   "cell_type": "markdown",
   "metadata": {
    "editable": true
   },
   "source": [
    "### Step 3: Define the Data Model\n",
    "#### 3.1 Conceptual Data Model\n",
    "Map out the conceptual data model and explain why you chose that model"
   ]
  },
  {
   "cell_type": "code",
   "execution_count": 5,
   "metadata": {
    "editable": true
   },
   "outputs": [],
   "source": [
    "# imports\n",
    "import boto3\n",
    "import os\n",
    "import configparser\n",
    "import pandas as pd"
   ]
  },
  {
   "cell_type": "code",
   "execution_count": 6,
   "metadata": {
    "editable": true
   },
   "outputs": [],
   "source": [
    "config = configparser.ConfigParser()\n",
    "config.read('capstone.cfg')\n",
    "os.environ['AWS_ACCESS_KEY_ID'] = config['AWS']['AWS_ACCESS_KEY_ID']\n",
    "os.environ['AWS_SECRET_ACCESS_KEY'] = config['AWS']['AWS_SECRET_ACCESS_KEY']\n",
    "session = boto3.session.Session(aws_access_key_id=os.environ['AWS_ACCESS_KEY_ID'], aws_secret_access_key=os.environ['AWS_SECRET_ACCESS_KEY'])\n",
    "s3 = session.client(service_name=\"s3\")"
   ]
  },
  {
   "cell_type": "markdown",
   "metadata": {
    "editable": true
   },
   "source": [
    "#### Step 3.1.1 - explore data in data lake"
   ]
  },
  {
   "cell_type": "code",
   "execution_count": 7,
   "metadata": {
    "editable": true
   },
   "outputs": [
    {
     "data": {
      "text/html": [
       "<div>\n",
       "<style scoped>\n",
       "    .dataframe tbody tr th:only-of-type {\n",
       "        vertical-align: middle;\n",
       "    }\n",
       "\n",
       "    .dataframe tbody tr th {\n",
       "        vertical-align: top;\n",
       "    }\n",
       "\n",
       "    .dataframe thead th {\n",
       "        text-align: right;\n",
       "    }\n",
       "</style>\n",
       "<table border=\"1\" class=\"dataframe\">\n",
       "  <thead>\n",
       "    <tr style=\"text-align: right;\">\n",
       "      <th></th>\n",
       "      <th>ident</th>\n",
       "      <th>type</th>\n",
       "      <th>name</th>\n",
       "      <th>elevation_ft</th>\n",
       "      <th>continent</th>\n",
       "      <th>iso_country</th>\n",
       "      <th>municipality</th>\n",
       "      <th>gps_code</th>\n",
       "      <th>iata_code</th>\n",
       "      <th>local_code</th>\n",
       "      <th>longitude</th>\n",
       "      <th>latitude</th>\n",
       "      <th>state_code</th>\n",
       "    </tr>\n",
       "  </thead>\n",
       "  <tbody>\n",
       "    <tr>\n",
       "      <th>13</th>\n",
       "      <td>PARS</td>\n",
       "      <td>small_airport</td>\n",
       "      <td>Russian Mission Airport</td>\n",
       "      <td>51.0</td>\n",
       "      <td>NA</td>\n",
       "      <td>US</td>\n",
       "      <td>Russian Mission</td>\n",
       "      <td>PARS</td>\n",
       "      <td>RSH</td>\n",
       "      <td>RSH</td>\n",
       "      <td>-161.319458</td>\n",
       "      <td>61.778885</td>\n",
       "      <td>AK</td>\n",
       "    </tr>\n",
       "    <tr>\n",
       "      <th>15</th>\n",
       "      <td>16K</td>\n",
       "      <td>seaplane_base</td>\n",
       "      <td>Port Alice Seaplane Base</td>\n",
       "      <td>0.0</td>\n",
       "      <td>NA</td>\n",
       "      <td>US</td>\n",
       "      <td>Port Alice</td>\n",
       "      <td>16K</td>\n",
       "      <td>PTC</td>\n",
       "      <td>16K</td>\n",
       "      <td>-133.597000</td>\n",
       "      <td>55.803000</td>\n",
       "      <td>AK</td>\n",
       "    </tr>\n",
       "    <tr>\n",
       "      <th>17</th>\n",
       "      <td>PASY</td>\n",
       "      <td>medium_airport</td>\n",
       "      <td>Eareckson Air Station</td>\n",
       "      <td>95.0</td>\n",
       "      <td>NA</td>\n",
       "      <td>US</td>\n",
       "      <td>Shemya</td>\n",
       "      <td>PASY</td>\n",
       "      <td>SYA</td>\n",
       "      <td>SYA</td>\n",
       "      <td>174.113998</td>\n",
       "      <td>52.712299</td>\n",
       "      <td>AK</td>\n",
       "    </tr>\n",
       "    <tr>\n",
       "      <th>20</th>\n",
       "      <td>PADE</td>\n",
       "      <td>medium_airport</td>\n",
       "      <td>Deering Airport</td>\n",
       "      <td>21.0</td>\n",
       "      <td>NA</td>\n",
       "      <td>US</td>\n",
       "      <td>Deering</td>\n",
       "      <td>PADE</td>\n",
       "      <td>DRG</td>\n",
       "      <td>DEE</td>\n",
       "      <td>-162.766006</td>\n",
       "      <td>66.069603</td>\n",
       "      <td>AK</td>\n",
       "    </tr>\n",
       "    <tr>\n",
       "      <th>21</th>\n",
       "      <td>PANW</td>\n",
       "      <td>small_airport</td>\n",
       "      <td>New Stuyahok Airport</td>\n",
       "      <td>364.0</td>\n",
       "      <td>NA</td>\n",
       "      <td>US</td>\n",
       "      <td>New Stuyahok</td>\n",
       "      <td>PANW</td>\n",
       "      <td>KNW</td>\n",
       "      <td>KNW</td>\n",
       "      <td>-157.328003</td>\n",
       "      <td>59.449902</td>\n",
       "      <td>AK</td>\n",
       "    </tr>\n",
       "  </tbody>\n",
       "</table>\n",
       "</div>"
      ],
      "text/plain": [
       "   ident            type                      name  elevation_ft continent  \\\n",
       "13  PARS   small_airport   Russian Mission Airport          51.0        NA   \n",
       "15   16K   seaplane_base  Port Alice Seaplane Base           0.0        NA   \n",
       "17  PASY  medium_airport     Eareckson Air Station          95.0        NA   \n",
       "20  PADE  medium_airport           Deering Airport          21.0        NA   \n",
       "21  PANW   small_airport      New Stuyahok Airport         364.0        NA   \n",
       "\n",
       "   iso_country     municipality gps_code iata_code local_code   longitude  \\\n",
       "13          US  Russian Mission     PARS       RSH        RSH -161.319458   \n",
       "15          US       Port Alice      16K       PTC        16K -133.597000   \n",
       "17          US           Shemya     PASY       SYA        SYA  174.113998   \n",
       "20          US          Deering     PADE       DRG        DEE -162.766006   \n",
       "21          US     New Stuyahok     PANW       KNW        KNW -157.328003   \n",
       "\n",
       "     latitude state_code  \n",
       "13  61.778885         AK  \n",
       "15  55.803000         AK  \n",
       "17  52.712299         AK  \n",
       "20  66.069603         AK  \n",
       "21  59.449902         AK  "
      ]
     },
     "execution_count": 7,
     "metadata": {},
     "output_type": "execute_result"
    }
   ],
   "source": [
    "# Airports Code\n",
    "airport_parquet = \"s3://udacity-capstone-jc/data-lake/airport_codes\"\n",
    "df_airport_codes = pd.read_parquet(airport_parquet)\n",
    "df_airport_codes.dropna(inplace=True)\n",
    "df_airport_codes.head()"
   ]
  },
  {
   "cell_type": "code",
   "execution_count": 8,
   "metadata": {
    "editable": true
   },
   "outputs": [
    {
     "name": "stdout",
     "output_type": "stream",
     "text": [
      "<class 'pandas.core.frame.DataFrame'>\n",
      "Int64Index: 1909 entries, 13 to 22753\n",
      "Data columns (total 13 columns):\n",
      " #   Column        Non-Null Count  Dtype   \n",
      "---  ------        --------------  -----   \n",
      " 0   ident         1909 non-null   object  \n",
      " 1   type          1909 non-null   object  \n",
      " 2   name          1909 non-null   object  \n",
      " 3   elevation_ft  1909 non-null   float64 \n",
      " 4   continent     1909 non-null   object  \n",
      " 5   iso_country   1909 non-null   object  \n",
      " 6   municipality  1909 non-null   object  \n",
      " 7   gps_code      1909 non-null   object  \n",
      " 8   iata_code     1909 non-null   object  \n",
      " 9   local_code    1909 non-null   object  \n",
      " 10  longitude     1909 non-null   float64 \n",
      " 11  latitude      1909 non-null   float64 \n",
      " 12  state_code    1909 non-null   category\n",
      "dtypes: category(1), float64(3), object(9)\n",
      "memory usage: 198.2+ KB\n"
     ]
    }
   ],
   "source": [
    "df_airport_codes.info()"
   ]
  },
  {
   "cell_type": "code",
   "execution_count": 9,
   "metadata": {
    "editable": true
   },
   "outputs": [
    {
     "data": {
      "text/html": [
       "<div>\n",
       "<style scoped>\n",
       "    .dataframe tbody tr th:only-of-type {\n",
       "        vertical-align: middle;\n",
       "    }\n",
       "\n",
       "    .dataframe tbody tr th {\n",
       "        vertical-align: top;\n",
       "    }\n",
       "\n",
       "    .dataframe thead th {\n",
       "        text-align: right;\n",
       "    }\n",
       "</style>\n",
       "<table border=\"1\" class=\"dataframe\">\n",
       "  <thead>\n",
       "    <tr style=\"text-align: right;\">\n",
       "      <th></th>\n",
       "      <th>cicid</th>\n",
       "      <th>i94mon</th>\n",
       "      <th>i94cit</th>\n",
       "      <th>i94res</th>\n",
       "      <th>i94port</th>\n",
       "      <th>arrdate</th>\n",
       "      <th>i94mode</th>\n",
       "      <th>depdate</th>\n",
       "      <th>i94bir</th>\n",
       "      <th>i94visa</th>\n",
       "      <th>matflag</th>\n",
       "      <th>biryear</th>\n",
       "      <th>gender</th>\n",
       "      <th>airline</th>\n",
       "      <th>fltno</th>\n",
       "      <th>visatype</th>\n",
       "      <th>i94yr</th>\n",
       "      <th>i94addr</th>\n",
       "    </tr>\n",
       "  </thead>\n",
       "  <tbody>\n",
       "    <tr>\n",
       "      <th>0</th>\n",
       "      <td>647547</td>\n",
       "      <td>4</td>\n",
       "      <td>PORTUGAL</td>\n",
       "      <td>PORTUGAL</td>\n",
       "      <td>FORT LAUDERDALE, FL</td>\n",
       "      <td>20548</td>\n",
       "      <td>Air</td>\n",
       "      <td>20549</td>\n",
       "      <td>30</td>\n",
       "      <td>2</td>\n",
       "      <td>M</td>\n",
       "      <td>1986</td>\n",
       "      <td>M</td>\n",
       "      <td>NK</td>\n",
       "      <td>00756</td>\n",
       "      <td>WT</td>\n",
       "      <td>2016</td>\n",
       "      <td>AK</td>\n",
       "    </tr>\n",
       "    <tr>\n",
       "      <th>1</th>\n",
       "      <td>2072597</td>\n",
       "      <td>12</td>\n",
       "      <td>COLOMBIA</td>\n",
       "      <td>COLOMBIA</td>\n",
       "      <td>MIAMI, FL</td>\n",
       "      <td>20799</td>\n",
       "      <td>Air</td>\n",
       "      <td>20820</td>\n",
       "      <td>7</td>\n",
       "      <td>2</td>\n",
       "      <td>M</td>\n",
       "      <td>2009</td>\n",
       "      <td>M</td>\n",
       "      <td>FC</td>\n",
       "      <td>352</td>\n",
       "      <td>B2</td>\n",
       "      <td>2016</td>\n",
       "      <td>AK</td>\n",
       "    </tr>\n",
       "    <tr>\n",
       "      <th>2</th>\n",
       "      <td>798007</td>\n",
       "      <td>4</td>\n",
       "      <td>DOMINICAN REPUBLIC</td>\n",
       "      <td>DOMINICAN REPUBLIC</td>\n",
       "      <td>NEW YORK, NY</td>\n",
       "      <td>20548</td>\n",
       "      <td>Air</td>\n",
       "      <td>20578</td>\n",
       "      <td>62</td>\n",
       "      <td>2</td>\n",
       "      <td>M</td>\n",
       "      <td>1954</td>\n",
       "      <td>M</td>\n",
       "      <td>DL</td>\n",
       "      <td>00312</td>\n",
       "      <td>B2</td>\n",
       "      <td>2016</td>\n",
       "      <td>AK</td>\n",
       "    </tr>\n",
       "    <tr>\n",
       "      <th>3</th>\n",
       "      <td>2159547</td>\n",
       "      <td>12</td>\n",
       "      <td>COSTA RICA</td>\n",
       "      <td>COSTA RICA</td>\n",
       "      <td>LOS ANGELES, CA</td>\n",
       "      <td>20799</td>\n",
       "      <td>Air</td>\n",
       "      <td>20803</td>\n",
       "      <td>39</td>\n",
       "      <td>2</td>\n",
       "      <td>M</td>\n",
       "      <td>1977</td>\n",
       "      <td>M</td>\n",
       "      <td>AS</td>\n",
       "      <td>283</td>\n",
       "      <td>B2</td>\n",
       "      <td>2016</td>\n",
       "      <td>AK</td>\n",
       "    </tr>\n",
       "    <tr>\n",
       "      <th>4</th>\n",
       "      <td>1224559</td>\n",
       "      <td>4</td>\n",
       "      <td>THAILAND</td>\n",
       "      <td>THAILAND</td>\n",
       "      <td>SAN FRANCISCO, CA</td>\n",
       "      <td>20551</td>\n",
       "      <td>Air</td>\n",
       "      <td>20566</td>\n",
       "      <td>42</td>\n",
       "      <td>2</td>\n",
       "      <td>M</td>\n",
       "      <td>1974</td>\n",
       "      <td>F</td>\n",
       "      <td>CX</td>\n",
       "      <td>00892</td>\n",
       "      <td>B2</td>\n",
       "      <td>2016</td>\n",
       "      <td>AK</td>\n",
       "    </tr>\n",
       "  </tbody>\n",
       "</table>\n",
       "</div>"
      ],
      "text/plain": [
       "     cicid  i94mon              i94cit              i94res  \\\n",
       "0   647547       4            PORTUGAL            PORTUGAL   \n",
       "1  2072597      12            COLOMBIA            COLOMBIA   \n",
       "2   798007       4  DOMINICAN REPUBLIC  DOMINICAN REPUBLIC   \n",
       "3  2159547      12          COSTA RICA          COSTA RICA   \n",
       "4  1224559       4            THAILAND            THAILAND   \n",
       "\n",
       "               i94port  arrdate i94mode  depdate  i94bir  i94visa matflag  \\\n",
       "0  FORT LAUDERDALE, FL    20548     Air    20549      30        2       M   \n",
       "1            MIAMI, FL    20799     Air    20820       7        2       M   \n",
       "2         NEW YORK, NY    20548     Air    20578      62        2       M   \n",
       "3      LOS ANGELES, CA    20799     Air    20803      39        2       M   \n",
       "4    SAN FRANCISCO, CA    20551     Air    20566      42        2       M   \n",
       "\n",
       "   biryear gender airline  fltno visatype i94yr i94addr  \n",
       "0     1986      M      NK  00756       WT  2016      AK  \n",
       "1     2009      M      FC    352       B2  2016      AK  \n",
       "2     1954      M      DL  00312       B2  2016      AK  \n",
       "3     1977      M      AS    283       B2  2016      AK  \n",
       "4     1974      F      CX  00892       B2  2016      AK  "
      ]
     },
     "execution_count": 9,
     "metadata": {},
     "output_type": "execute_result"
    }
   ],
   "source": [
    "# U.S. Immigration Data\n",
    "immigration_parquet = \"s3://udacity-capstone-jc/data-lake/us_immigration\"\n",
    "df_immigration = pd.read_parquet(immigration_parquet)\n",
    "df_immigration.head()"
   ]
  },
  {
   "cell_type": "code",
   "execution_count": 10,
   "metadata": {
    "editable": true
   },
   "outputs": [
    {
     "name": "stdout",
     "output_type": "stream",
     "text": [
      "<class 'pandas.core.frame.DataFrame'>\n",
      "RangeIndex: 27199864 entries, 0 to 27199863\n",
      "Data columns (total 18 columns):\n",
      " #   Column    Dtype   \n",
      "---  ------    -----   \n",
      " 0   cicid     int32   \n",
      " 1   i94mon    int32   \n",
      " 2   i94cit    object  \n",
      " 3   i94res    object  \n",
      " 4   i94port   object  \n",
      " 5   arrdate   int32   \n",
      " 6   i94mode   object  \n",
      " 7   depdate   int32   \n",
      " 8   i94bir    int32   \n",
      " 9   i94visa   int32   \n",
      " 10  matflag   object  \n",
      " 11  biryear   int32   \n",
      " 12  gender    object  \n",
      " 13  airline   object  \n",
      " 14  fltno     object  \n",
      " 15  visatype  object  \n",
      " 16  i94yr     category\n",
      " 17  i94addr   category\n",
      "dtypes: category(2), int32(7), object(9)\n",
      "memory usage: 2.6+ GB\n"
     ]
    }
   ],
   "source": [
    "df_immigration.info()"
   ]
  },
  {
   "cell_type": "code",
   "execution_count": 11,
   "metadata": {
    "editable": true
   },
   "outputs": [
    {
     "data": {
      "text/html": [
       "<div>\n",
       "<style scoped>\n",
       "    .dataframe tbody tr th:only-of-type {\n",
       "        vertical-align: middle;\n",
       "    }\n",
       "\n",
       "    .dataframe tbody tr th {\n",
       "        vertical-align: top;\n",
       "    }\n",
       "\n",
       "    .dataframe thead th {\n",
       "        text-align: right;\n",
       "    }\n",
       "</style>\n",
       "<table border=\"1\" class=\"dataframe\">\n",
       "  <thead>\n",
       "    <tr style=\"text-align: right;\">\n",
       "      <th></th>\n",
       "      <th>city</th>\n",
       "      <th>state</th>\n",
       "      <th>median_age</th>\n",
       "      <th>male_population</th>\n",
       "      <th>female_population</th>\n",
       "      <th>total_population</th>\n",
       "      <th>num_of_veterans</th>\n",
       "      <th>foreign_born</th>\n",
       "      <th>average_household_size</th>\n",
       "      <th>race</th>\n",
       "      <th>count</th>\n",
       "      <th>state_code</th>\n",
       "    </tr>\n",
       "  </thead>\n",
       "  <tbody>\n",
       "    <tr>\n",
       "      <th>0</th>\n",
       "      <td>Anchorage</td>\n",
       "      <td>Alaska</td>\n",
       "      <td>32.2</td>\n",
       "      <td>152945</td>\n",
       "      <td>145750</td>\n",
       "      <td>298695</td>\n",
       "      <td>27492</td>\n",
       "      <td>33258</td>\n",
       "      <td>2.77</td>\n",
       "      <td>Hispanic or Latino</td>\n",
       "      <td>27261</td>\n",
       "      <td>AK</td>\n",
       "    </tr>\n",
       "    <tr>\n",
       "      <th>1</th>\n",
       "      <td>Anchorage</td>\n",
       "      <td>Alaska</td>\n",
       "      <td>32.2</td>\n",
       "      <td>152945</td>\n",
       "      <td>145750</td>\n",
       "      <td>298695</td>\n",
       "      <td>27492</td>\n",
       "      <td>33258</td>\n",
       "      <td>2.77</td>\n",
       "      <td>American Indian and Alaska Native</td>\n",
       "      <td>36339</td>\n",
       "      <td>AK</td>\n",
       "    </tr>\n",
       "    <tr>\n",
       "      <th>2</th>\n",
       "      <td>Anchorage</td>\n",
       "      <td>Alaska</td>\n",
       "      <td>32.2</td>\n",
       "      <td>152945</td>\n",
       "      <td>145750</td>\n",
       "      <td>298695</td>\n",
       "      <td>27492</td>\n",
       "      <td>33258</td>\n",
       "      <td>2.77</td>\n",
       "      <td>White</td>\n",
       "      <td>212696</td>\n",
       "      <td>AK</td>\n",
       "    </tr>\n",
       "    <tr>\n",
       "      <th>3</th>\n",
       "      <td>Anchorage</td>\n",
       "      <td>Alaska</td>\n",
       "      <td>32.2</td>\n",
       "      <td>152945</td>\n",
       "      <td>145750</td>\n",
       "      <td>298695</td>\n",
       "      <td>27492</td>\n",
       "      <td>33258</td>\n",
       "      <td>2.77</td>\n",
       "      <td>Asian</td>\n",
       "      <td>36825</td>\n",
       "      <td>AK</td>\n",
       "    </tr>\n",
       "    <tr>\n",
       "      <th>4</th>\n",
       "      <td>Anchorage</td>\n",
       "      <td>Alaska</td>\n",
       "      <td>32.2</td>\n",
       "      <td>152945</td>\n",
       "      <td>145750</td>\n",
       "      <td>298695</td>\n",
       "      <td>27492</td>\n",
       "      <td>33258</td>\n",
       "      <td>2.77</td>\n",
       "      <td>Black or African-American</td>\n",
       "      <td>23107</td>\n",
       "      <td>AK</td>\n",
       "    </tr>\n",
       "  </tbody>\n",
       "</table>\n",
       "</div>"
      ],
      "text/plain": [
       "        city   state  median_age  male_population  female_population  \\\n",
       "0  Anchorage  Alaska        32.2           152945             145750   \n",
       "1  Anchorage  Alaska        32.2           152945             145750   \n",
       "2  Anchorage  Alaska        32.2           152945             145750   \n",
       "3  Anchorage  Alaska        32.2           152945             145750   \n",
       "4  Anchorage  Alaska        32.2           152945             145750   \n",
       "\n",
       "  total_population  num_of_veterans  foreign_born  average_household_size  \\\n",
       "0           298695            27492         33258                    2.77   \n",
       "1           298695            27492         33258                    2.77   \n",
       "2           298695            27492         33258                    2.77   \n",
       "3           298695            27492         33258                    2.77   \n",
       "4           298695            27492         33258                    2.77   \n",
       "\n",
       "                                race   count state_code  \n",
       "0                 Hispanic or Latino   27261         AK  \n",
       "1  American Indian and Alaska Native   36339         AK  \n",
       "2                              White  212696         AK  \n",
       "3                              Asian   36825         AK  \n",
       "4          Black or African-American   23107         AK  "
      ]
     },
     "execution_count": 11,
     "metadata": {},
     "output_type": "execute_result"
    }
   ],
   "source": [
    "# U.S. Cities Demographics\n",
    "us_cities_demo_parquet = \"s3://udacity-capstone-jc/data-lake/us_cities_demographics/\"\n",
    "df_us_cities = pd.read_parquet(us_cities_demo_parquet)\n",
    "df_us_cities.head()"
   ]
  },
  {
   "cell_type": "code",
   "execution_count": 12,
   "metadata": {
    "editable": true
   },
   "outputs": [
    {
     "name": "stdout",
     "output_type": "stream",
     "text": [
      "<class 'pandas.core.frame.DataFrame'>\n",
      "RangeIndex: 2875 entries, 0 to 2874\n",
      "Data columns (total 12 columns):\n",
      " #   Column                  Non-Null Count  Dtype   \n",
      "---  ------                  --------------  -----   \n",
      " 0   city                    2875 non-null   object  \n",
      " 1   state                   2875 non-null   object  \n",
      " 2   median_age              2875 non-null   float64 \n",
      " 3   male_population         2875 non-null   int32   \n",
      " 4   female_population       2875 non-null   int32   \n",
      " 5   total_population        2875 non-null   object  \n",
      " 6   num_of_veterans         2875 non-null   int32   \n",
      " 7   foreign_born            2875 non-null   int32   \n",
      " 8   average_household_size  2875 non-null   float64 \n",
      " 9   race                    2875 non-null   object  \n",
      " 10  count                   2875 non-null   int32   \n",
      " 11  state_code              2875 non-null   category\n",
      "dtypes: category(1), float64(2), int32(5), object(4)\n",
      "memory usage: 195.3+ KB\n"
     ]
    }
   ],
   "source": [
    "df_us_cities.info()"
   ]
  },
  {
   "cell_type": "markdown",
   "metadata": {
    "editable": true
   },
   "source": [
    "#### 3.1.2 staging tables\n",
    "The data warehouse contains three staging tables to hold data from the data lake. These three staging tables will then enable SQL-SQL ETL.\n",
    "\n",
    "<img  style=\"width:80%\"  src=\"Data model - staging tables.jpg\" alt=\"data model for staging tables\">\n",
    "\n",
    "#### 3.1.3 data warehouse schema (STAR schema)\n",
    "\n",
    "Since this database is for analytical purposes, it should be optimized for <strong>Online Analytical Processing (OLAP)</strong>\n",
    "workloads, and therefore, a <strong>STAR schema</strong> is recommended for this database.\n",
    "\n",
    "<strong>Fact table - <code>immigration_records</code></strong>:\n",
    "* Fact tables generally record events, and in this case, an immigrant entering the U.S. is an event and is a good candidate for the fact table\n",
    "* For each immigrant, the fact table records the following information:\n",
    "    * the immigrant's city or origin\n",
    "    * the port that he/she enters in the U.S.\n",
    "    * the transport which he/she used to arrive in the U.S.\n",
    "    * the arrival date\n",
    "    * the departure date\n",
    "    * the gender of the immigrant\n",
    "    * the state code he/she will be living in the U.S.\n",
    "\n",
    "<strong>Dimension tables</strong>:\n",
    "* Dimension tables records the context of an event (an immigrant enters the U.S.)\n",
    "* <code>dim_airports</code>\n",
    "    * The <code>dim_airports</code> dimension table contains:\n",
    "        * the type of an airport\n",
    "        * the name of an airport\n",
    "        * the gps code of an airport\n",
    "        * the longitude of an airport\n",
    "        * the latitude of an airport\n",
    "        * the state code of the airport\n",
    "* <code>dim_travel</code>\n",
    "    * The <code>dim_travel</code> dimension table contains:\n",
    "        * the travel date of an immigrant (both arrival and departure)\n",
    "        * the year of the date\n",
    "        * the month of the date\n",
    "        * the day of the date\n",
    "        * the week of the date\n",
    "        * the weekday of the date\n",
    "* <code>dim_demographics</code>\n",
    "    * The <code>dim_demographics</code> dimension table contains:\n",
    "        * the state code of a state\n",
    "        * the total male population in the state\n",
    "        * the total female population in the stae\n",
    "        * the total population in the state\n",
    "        * the number of foreign born in the state\n",
    "\n",
    "\n",
    "\n",
    "<img style=\"width:80%\" src=\"Data model - data warehouse.jpg\" alt=\"data model for data lake\">"
   ]
  },
  {
   "cell_type": "markdown",
   "metadata": {
    "editable": true
   },
   "source": [
    "#### 3.2 Mapping Out Data Pipelines\n",
    "Steps necessary to pipeline the data into the chosen data mode:\n",
    "1. delete any existing tables in the data warehouse (for initial run only)\n",
    "2. create any table if not exists\n",
    "3. populate staging tables using the <code>copy</code> command\n",
    "4. populate dimension tables via SQL-SQL ETL\n",
    "5. populate fact table via SQL-SQL ETL"
   ]
  },
  {
   "cell_type": "markdown",
   "metadata": {
    "editable": true
   },
   "source": [
    "### Step 4: Run Pipelines to Model the Data \n",
    "#### 4.1 Create the data model\n",
    "Build the data pipelines to create the data model.\n",
    "\n",
    "#### 4.1.1 - create an Amazon Redshift cluster via <code>Infrastructure as code</code>\n",
    "The following code cell creates an Amazon Redshift cluster - note, it could take a few minutes for the cluster to be ready."
   ]
  },
  {
   "cell_type": "code",
   "execution_count": null,
   "metadata": {
    "editable": true
   },
   "outputs": [],
   "source": [
    "# from infra_as_code import get_role_arn, create_redshift_cluster, describe_redshift_cluster, prettyRedshiftProps\n",
    "# roleArn = get_role_arn()\n",
    "# create_redshift_cluster(roleArn)  # run this to create a redshift cluster.\n",
    "# myClusterProps = describe_redshift_cluster()\n",
    "# print(prettyRedshiftProps(myClusterProps))"
   ]
  },
  {
   "cell_type": "markdown",
   "metadata": {
    "editable": true
   },
   "source": [
    "#### 4.1.2 establish a redshift connection"
   ]
  },
  {
   "cell_type": "code",
   "execution_count": 13,
   "metadata": {
    "editable": true
   },
   "outputs": [],
   "source": [
    "import psycopg2\n",
    "config = configparser.ConfigParser()\n",
    "config.read('dwh-jc.cfg')\n",
    "conn = psycopg2.connect(\"host={} dbname={} user={} password={} port={}\".format(*config['CLUSTER'].values()))\n",
    "cur = conn.cursor()"
   ]
  },
  {
   "cell_type": "code",
   "execution_count": 14,
   "metadata": {
    "editable": true
   },
   "outputs": [],
   "source": [
    "# helper function for executing queries\n",
    "\n",
    "def execute_queries(query_list, cursor, connection):\n",
    "    for query in query_list:\n",
    "        cursor.execute(query)\n",
    "        connection.commit()"
   ]
  },
  {
   "cell_type": "markdown",
   "metadata": {
    "editable": true
   },
   "source": [
    "#### 4.1.2 - drop tables if exist\n",
    "This step drops any tables if they exist to ensure a clean environment - <strong>This step should NOT be run in production</strong>"
   ]
  },
  {
   "cell_type": "code",
   "execution_count": 15,
   "metadata": {
    "editable": true
   },
   "outputs": [],
   "source": [
    "from sql_queries import drop_table_queries\n",
    "\n",
    "execute_queries(query_list=drop_table_queries, cursor=cur, connection=conn)"
   ]
  },
  {
   "cell_type": "markdown",
   "metadata": {
    "editable": true
   },
   "source": [
    "#### 4.1.3 - create tables\n",
    "This steps creates all tables (3 staging tables, 1 fact table, and 3 dimensional tables)"
   ]
  },
  {
   "cell_type": "code",
   "execution_count": 16,
   "metadata": {
    "editable": true
   },
   "outputs": [],
   "source": [
    "from sql_queries import create_table_queries\n",
    "execute_queries(query_list=create_table_queries, cursor=cur, connection=conn)"
   ]
  },
  {
   "cell_type": "markdown",
   "metadata": {
    "editable": true
   },
   "source": [
    "#### 4.1.4 - copy staging tables\n",
    "This step populates the three staging tables from the data lake via the <code>COPY</code> command"
   ]
  },
  {
   "cell_type": "code",
   "execution_count": 17,
   "metadata": {
    "editable": true
   },
   "outputs": [],
   "source": [
    "from sql_queries import copy_table_queries\n",
    "execute_queries(query_list=copy_table_queries, cursor=cur, connection=conn)"
   ]
  },
  {
   "cell_type": "markdown",
   "metadata": {
    "editable": true
   },
   "source": [
    "#### 4.1.5 - Quality Check for staging tables\n",
    "\n",
    "Check staging tables have the correct number of records. If quality check failed, do not proceed with populating fact and dimensional tables"
   ]
  },
  {
   "cell_type": "code",
   "execution_count": 18,
   "metadata": {
    "editable": true
   },
   "outputs": [
    {
     "name": "stdout",
     "output_type": "stream",
     "text": [
      "immigration_staging passed quality check with 27199864 records.\n",
      "airport_staging failed quality check with 22753 records\n",
      "demographics_staging passed quality check with 2875 records.\n"
     ]
    }
   ],
   "source": [
    "check_staging = [\"SELECT COUNT(*) FROM immigration_staging\",\n",
    "                \"SELECT COUNT(*) FROM airport_staging\",\n",
    "                \"SELECT COUNT(*) FROM demographics_staging\"]\n",
    "answers = [27199864, 22741, 2875]\n",
    "\n",
    "for i in range(len(check_staging)):\n",
    "    cur.execute(check_staging[i])\n",
    "    records = cur.fetchone()[0]\n",
    "    if records != answers[i]:\n",
    "        print(f\"{check_staging[i].split()[-1]} failed quality check with {records} records\")\n",
    "    else:\n",
    "        print(f\"{check_staging[i].split()[-1]} passed quality check with {records} records.\")\n"
   ]
  },
  {
   "cell_type": "markdown",
   "metadata": {
    "editable": true
   },
   "source": [
    "#### 4.1.6 - populate fact and dimensional tables\n",
    "This steps populates the three dimensional tables and the fact table."
   ]
  },
  {
   "cell_type": "code",
   "execution_count": 19,
   "metadata": {
    "editable": true
   },
   "outputs": [],
   "source": [
    "from sql_queries import insert_table_queries\n",
    "execute_queries(query_list=insert_table_queries, cursor=cur, connection=conn)"
   ]
  },
  {
   "cell_type": "markdown",
   "metadata": {
    "editable": true
   },
   "source": [
    "#### 4.2 Data Quality Checks\n",
    "Explain the data quality checks you'll perform to ensure the pipeline ran as expected. These could include:\n",
    " * Integrity constraints on the relational database (e.g., unique key, data type, etc.)\n",
    "    - <span style=\"color:red\">Primary key and foreign key constrants have been applied to the data warehouse</span>\n",
    "    - <span style=\"color:red\">Column data type constraints have been applied to the data warehouse</span>\n",
    " * Source/Count checks to ensure completeness\n",
    "    - <span style=\"color:red\">Source/count checks have been applied to both staging tables, fact table, and dimensional tables</span>\n",
    " \n",
    "Run Quality Checks"
   ]
  },
  {
   "cell_type": "code",
   "execution_count": 20,
   "metadata": {
    "editable": true
   },
   "outputs": [],
   "source": [
    "def quality_check(table:str, expected_records:int):\n",
    "    cur.execute(f\"\"\" SELECT count(*) from {table}\"\"\")\n",
    "    records = cur.fetchone()[0]\n",
    "    if records != expected_records:\n",
    "        print(f\"{table} failed quality check with {records} records\")\n",
    "    else:\n",
    "        print(f\"{table} passed quality check with {records} records.\")"
   ]
  },
  {
   "cell_type": "code",
   "execution_count": 21,
   "metadata": {
    "editable": true
   },
   "outputs": [
    {
     "name": "stdout",
     "output_type": "stream",
     "text": [
      "fact_immigration_records passed quality check with 27199864 records.\n",
      "dim_airports passed quality check with 46 records.\n",
      "dim_travel passed quality check with 554 records.\n",
      "dim_demographics passed quality check with 48 records.\n"
     ]
    }
   ],
   "source": [
    "quality_check(table=\"fact_immigration_records\", expected_records=27199864)\n",
    "quality_check(table=\"dim_airports\", expected_records=46)\n",
    "quality_check(table=\"dim_travel\", expected_records=554)\n",
    "quality_check(table=\"dim_demographics\", expected_records=48)"
   ]
  },
  {
   "cell_type": "markdown",
   "metadata": {
    "editable": true
   },
   "source": [
    "## Data Quality Check - ensure <code>air</code> mode is in the fact table\n",
    "Since whether each state has enough large airports is the main research topic, it is essential to ensure the travel mode, air, is present in the <code>fact_immigration_records</code> table."
   ]
  },
  {
   "cell_type": "code",
   "execution_count": 24,
   "metadata": {
    "editable": true
   },
   "outputs": [
    {
     "name": "stdout",
     "output_type": "stream",
     "text": [
      "Passed quality check - there are 27136588 Air records in the fact_immigration_records table\n"
     ]
    }
   ],
   "source": [
    "check_air_exist = \"\"\"\n",
    "    SELECT count(*) from fact_immigration_records where mode = 'Air'\n",
    "\"\"\"\n",
    "\n",
    "cur.execute(check_air_exist)\n",
    "record = cur.fetchone()[0]\n",
    "if record != 0:\n",
    "    print(f\"Passed quality check - there are {record} Air records in the fact_immigration_records table\")\n",
    "else:\n",
    "    print(f\"Failed quality check - there are {record} Air records in the fact_immigraction_records table\")\n"
   ]
  },
  {
   "cell_type": "markdown",
   "metadata": {
    "editable": true
   },
   "source": [
    "## Data Quality Check - foreign key constraints\n",
    "#### The following foreign key constraints are applied in the <code>fact_immigration_records</code> table:\n",
    "* <code>FOREIGN KEY (arrival_date) REFERENCES dim_travel(travel_date)</code>\n",
    "* <code>FOREIGN KEY (departure_date) REFERENCES dim_travel(travel_date)</code>\n",
    "* <code>FOREIGN KEY (state_code) REFERENCES dim_demographics(state_code)</code>\n",
    "* <code>FOREIGN KEY (state_code) REFERENCES dim_airports(airport_state_code)</code>\n",
    "\n",
    "<span style=\"color:red\">In the fact_immigraction_records table, these fields (arrival_date, departure_date, state_code) all have the same data type and <code>NOT NULL</code> constraint as the dimension tables that they are referencing.</span>"
   ]
  },
  {
   "cell_type": "markdown",
   "metadata": {
    "editable": true
   },
   "source": [
    "<strong>Delete the Amazon Redshift cluster to save cost</strong>"
   ]
  },
  {
   "cell_type": "code",
   "execution_count": null,
   "metadata": {
    "editable": true
   },
   "outputs": [],
   "source": [
    "# from infra_as_code import delete_redshift_cluster\n",
    "# delete_redshift_cluster()"
   ]
  },
  {
   "cell_type": "markdown",
   "metadata": {
    "editable": true
   },
   "source": [
    "#### 4.3 Data dictionary \n",
    "Create a data dictionary for your data model. For each field, provide a brief description of what the data is and where it came from. You can include the data dictionary in the notebook or in a separate file.\n",
    "\n",
    "<span style=\"color:blue\">Data Dictionaries for the fact table and all dimensional tables are available in the workspace in <code>.xlsx</code> format:</span>\n",
    "- <span style=\"color:blue\"><code>data_dictionary_dim_airport.xlsx</code></span>\n",
    "- <span style=\"color:blue\"><code>data_dictionary_dim_demographics.xlsx</code></span>\n",
    "- <span style=\"color:blue\"><code>data_dictionary_dim_travel.xlsx</code></span>\n",
    "- <span style=\"color:blue\"><code>data_dictionary_fact_immigration.xlsx</code></span>"
   ]
  },
  {
   "cell_type": "markdown",
   "metadata": {
    "editable": true
   },
   "source": [
    "#### Step 5: Project Write Up\n",
    "* Clearly state the rationale for the choice of tools and technologies for the project:\n",
    "    * Apache Spark:\n",
    "        * Apache Spark is chosen for ingestions as it allows a large volume of data (over 22 millon records) to be ingested in parallel.\n",
    "    * AWS S3:\n",
    "        * AWS S3 is chosen for the data lake as it allows a large volume of data being stored at a very low price, and it integrates with the other Amazon Web Services very well.\n",
    "    * Apache Parquet:\n",
    "        * Apache Parquet is chosen as the storage format as it allows data to be paritioned by columns.\n",
    "    * Amazon Redshift:\n",
    "        * Amazon Redshift is chosen as the cloud data warehouse as it is highly available and highly performant.\n",
    "* Propose how often the data should be updated and why:\n",
    "    * The data (especially the fact table) should be updated daily as travelers are coming to the U.S. on a daily basis, it is essential that the most up-to-date data are available in the data warehouse to enable quality decisions.\n",
    "\n",
    "\n",
    "* Write a description of how you would approach the problem differently under the following scenarios:\n",
    "    * The data was increased by 100x.\n",
    "        * If the data was increased by 100 times, the current apache spark jobs shall be submitted to an AWS EMR cluster for processing instead of on a local machine\n",
    "    * The data populates a dashboard that must be updated on a daily basis by 7am every day.\n",
    "        * Apache Airflow shall be used to schedule all data ingestion tasks and ETL tasks to be completed before 7 am\n",
    "    * The database needed to be accessed by 100+ people.\n",
    "        * The Amazon Redshift Data Warehouse should have <strong>Elastic Resize</strong> enabled.\n",
    "\n",
    "### Other requirements in the project rubric\n",
    "* At least 2 data sources:\n",
    "    - <span style=\"color:blue\">Three data sources are used in this project</span>\n",
    "* More than 1 million lines of data:\n",
    "    - <span style=\"color:blue\">The U.S. Immigration dataset contains over 22 million lines of data</span>\n",
    "    - <span style=\"color:blue\">The fact table also contains <strong>27199864<strong> records</span>\n",
    "* At least two data formats (csv, api, json)\n",
    "    - <span style=\"color:blue\">The U.S. Immigraction dataset is of the format <code>.sas7bdat</code></span>\n",
    "    - <span style=\"color:blue\">The U.S. City Demographic dataset and the Airport Code dataset are of the format <code>.csv</code></span>"
   ]
  },
  {
   "cell_type": "markdown",
   "metadata": {
    "editable": true
   },
   "source": [
    "# Example Usage\n",
    "\n",
    "### The question: do we have enough large airports in states where large amount of traveller are living?"
   ]
  },
  {
   "cell_type": "code",
   "execution_count": 25,
   "metadata": {
    "editable": true
   },
   "outputs": [],
   "source": [
    "query = \"\"\"SELECT \n",
    "            count(*) as num_of_people_arriving, \n",
    "            state_code, \n",
    "            num_large_airports \n",
    "        FROM \n",
    "            fact_immigration_records f JOIN dim_airports a ON (a.airport_state_code = f.state_code) \n",
    "        GROUP BY \n",
    "            state_code, num_large_airports\n",
    "    \"\"\""
   ]
  },
  {
   "cell_type": "code",
   "execution_count": 26,
   "metadata": {
    "editable": true
   },
   "outputs": [],
   "source": [
    "cur.execute(query)\n",
    "result = cur.fetchall()"
   ]
  },
  {
   "cell_type": "code",
   "execution_count": 27,
   "metadata": {
    "editable": true
   },
   "outputs": [
    {
     "name": "stdout",
     "output_type": "stream",
     "text": [
      "[0.288, 0.063, 0.018, 0.026, 0.205, 0.027, 0.077, 0.054, 1.097, 4.606, 0.092, 0.162, 0.13, 0.015, 0.013, 0.698, 6.564, 0.099, 0.027, 0.182, 0.063, 0.042, 4.895, 0.227, 0.748, 0.032, 0.311, 0.224, 0.028, 1.751, 1.213, 0.258, 0.419, 0.029, 0.02, 0.684, 0.286, 0.126, 0.235, 0.159, 0.202, 0.008, 0.111, 0.095, 0.058]\n",
      "['PA', 'MO', 'NM', 'AR', 'NE', 'KS', 'WI', 'AK', 'NV', 'CA', 'IN', 'LA', 'CT', 'MS', 'MT', 'MA', 'FL', 'TN', 'ME', 'AZ', 'SC', 'KY', 'NY', 'MD', 'IL', 'IA', 'GA', 'CO', 'DE', 'HI', 'TX', 'DC', 'WA', 'OK', 'ID', 'NJ', 'VA', 'OR', 'MI', 'OH', 'NC', 'WV', 'MN', 'UT', 'AL']\n",
      "[3, 6, 3, 2, 1, 1, 3, 2, 2, 12, 4, 4, 1, 3, 1, 1, 14, 5, 2, 3, 4, 3, 7, 2, 8, 4, 5, 1, 1, 1, 15, 2, 5, 5, 2, 1, 5, 1, 2, 6, 5, 2, 4, 1, 4]\n"
     ]
    }
   ],
   "source": [
    "people = []\n",
    "state = []\n",
    "large_airports = []\n",
    "for current in result:\n",
    "    people.append(round(current[0]/10**6, 3))  # convert to millions of people\n",
    "    state.append(current[1])\n",
    "    large_airports.append(current[2])\n",
    "\n",
    "print(people)\n",
    "print(state)\n",
    "print(large_airports)"
   ]
  },
  {
   "cell_type": "code",
   "execution_count": 28,
   "metadata": {
    "editable": true
   },
   "outputs": [],
   "source": [
    "import matplotlib.pyplot as plt\n",
    "import numpy as np"
   ]
  },
  {
   "cell_type": "code",
   "execution_count": 29,
   "metadata": {
    "editable": true
   },
   "outputs": [
    {
     "data": {
      "image/png": "[encoded data removed]",
      "text/plain": [
       "<Figure size 1440x720 with 1 Axes>"
      ]
     },
     "metadata": {
      "needs_background": "light"
     },
     "output_type": "display_data"
    }
   ],
   "source": [
    "x = np.arange(len(people))\n",
    "width = 0.3\n",
    "fig, ax = plt.subplots(figsize=(20, 10))\n",
    "rects1 = ax.bar(x - width/2, people, width, label='People')\n",
    "rects2 = ax.bar(x + width/2, large_airports, width, label='Large Airports')\n",
    "\n",
    "# Add some text for labels, title and custom x-axis tick labels, etc.\n",
    "ax.set_ylabel('Millions of people; Number of large airports')\n",
    "ax.set_title('U.S. large airports by state vs traveller arriving in 2016')\n",
    "ax.set_xticks(x)\n",
    "ax.set_xticklabels(state)\n",
    "ax.legend()\n",
    "\n",
    "ax.bar_label(rects1, padding=3)\n",
    "ax.bar_label(rects2, padding=3)\n",
    "fig.tight_layout()\n",
    "plt.show()\n"
   ]
  },
  {
   "cell_type": "markdown",
   "metadata": {
    "editable": true
   },
   "source": [
    "#### Sample Insight:\n",
    "* States such as Maryland, New York would need to consider adding more large airports given how many travelers are living their states"
   ]
  }
 ],
 "metadata": {
  "kernelspec": {
   "display_name": "Python 3",
   "language": "python",
   "name": "python3"
  },
  "language_info": {
   "codemirror_mode": {
    "name": "ipython",
    "version": 3
   },
   "file_extension": ".py",
   "mimetype": "text/x-python",
   "name": "python",
   "nbconvert_exporter": "python",
   "pygments_lexer": "ipython3",
   "version": "3.6.3"
  }
 },
 "nbformat": 4,
 "nbformat_minor": 4
}
