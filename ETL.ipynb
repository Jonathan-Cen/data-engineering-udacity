{
 "cells": [
  {
   "cell_type": "markdown",
   "metadata": {
    "editable": true
   },
   "source": [
    "# Part I. ETL Pipeline for Pre-Processing the Files"
   ]
  },
  {
   "cell_type": "markdown",
   "metadata": {
    "editable": true
   },
   "source": [
    "#### Import Python packages "
   ]
  },
  {
   "cell_type": "code",
   "execution_count": 1,
   "metadata": {
    "editable": true
   },
   "outputs": [],
   "source": [
    "import pandas as pd\n",
    "import cassandra\n",
    "import re\n",
    "import os\n",
    "import glob\n",
    "import numpy as np\n",
    "import json\n",
    "import csv"
   ]
  },
  {
   "cell_type": "markdown",
   "metadata": {
    "editable": true
   },
   "source": [
    "#### Creating list of filepaths to process original event csv data files"
   ]
  },
  {
   "cell_type": "code",
   "execution_count": 2,
   "metadata": {
    "editable": true
   },
   "outputs": [
    {
     "name": "stdout",
     "output_type": "stream",
     "text": [
      "/home/workspace\n",
      "\n"
     ]
    }
   ],
   "source": [
    "# checking your current working directory\n",
    "print(os.getcwd())\n",
    "\n",
    "# Get your current folder and subfolder event data\n",
    "filepath = os.getcwd() + '/event_data'\n",
    "file_path_list = []\n",
    "# Create a for loop to create a list of files and collect each filepath\n",
    "for root, dirs, files in os.walk(filepath):\n",
    "# join the file path and roots with the subdirectories using glob\n",
    "    files = glob.glob(os.path.join(root,'*'))\n",
    "    for f in files:\n",
    "        file_path_list.append(os.path.abspath(f))\n",
    "\n",
    "# Remove any checkpoint csv file. There should be 30 file paths in total\n",
    "to_remove = []\n",
    "for file in file_path_list:\n",
    "    if \"checkpoint\" in file:\n",
    "        to_remove.append(file)\n",
    "[file_path_list.remove(file) for file in to_remove]\n",
    "print()"
   ]
  },
  {
   "cell_type": "markdown",
   "metadata": {
    "editable": true
   },
   "source": [
    "#### Processing the files to create the data file csv that will be used for Apache Casssandra tables"
   ]
  },
  {
   "cell_type": "code",
   "execution_count": 3,
   "metadata": {
    "editable": true
   },
   "outputs": [
    {
     "name": "stdout",
     "output_type": "stream",
     "text": [
      "Total Number of Rows = 8056\n"
     ]
    }
   ],
   "source": [
    "full_data_rows_list = [] \n",
    "for f in file_path_list:\n",
    "    with open(f, 'r', encoding = 'utf8', newline='') as csvfile: \n",
    "        # creating a csv reader object \n",
    "        csvreader = csv.reader(csvfile) \n",
    "        next(csvreader)\n",
    "        for line in csvreader:\n",
    "            full_data_rows_list.append(line) \n",
    "print(\"Total Number of Rows = {}\".format(len(full_data_rows_list)))\n",
    "csv.register_dialect('myDialect', quoting=csv.QUOTE_ALL, skipinitialspace=True)\n",
    "\n",
    "with open('event_datafile_new.csv', 'w', encoding = 'utf8', newline='') as f:\n",
    "    writer = csv.writer(f, dialect='myDialect')\n",
    "    writer.writerow(['artist','firstName','gender','itemInSession','lastName','length',\\\n",
    "                'level','location','sessionId','song','userId'])\n",
    "    for row in full_data_rows_list:\n",
    "        if (row[0] == ''):\n",
    "            continue\n",
    "        writer.writerow((row[0], row[2], row[3], row[4], row[5], row[6], row[7], row[8], row[12], row[13], row[16]))\n"
   ]
  },
  {
   "cell_type": "markdown",
   "metadata": {
    "editable": true
   },
   "source": [
    "# Part II. Apache Cassandra modelling\n",
    "\n",
    "## Now you are ready to work with the CSV file titled <font color=red>event_datafile_new.csv</font>, located within the Workspace directory.  The event_datafile_new.csv contains the following columns: \n",
    "- artist \n",
    "- firstName of user\n",
    "- gender of user\n",
    "- item number in session\n",
    "- last name of user\n",
    "- length of the song\n",
    "- level (paid or free song)\n",
    "- location of the user\n",
    "- sessionId\n",
    "- song title\n",
    "- userId\n",
    "\n",
    "The image below is a screenshot of what the denormalized data should appear like in the <font color=red>**event_datafile_new.csv**</font> after the code above is run:<br>\n",
    "\n",
    "<img src=\"images/image_event_datafile_new.jpg\">"
   ]
  },
  {
   "cell_type": "markdown",
   "metadata": {
    "editable": true
   },
   "source": [
    "#### Creating a Cluster"
   ]
  },
  {
   "cell_type": "code",
   "execution_count": 4,
   "metadata": {
    "editable": true
   },
   "outputs": [],
   "source": [
    "from cassandra.cluster import Cluster\n",
    "cluster = Cluster()\n",
    "session = cluster.connect()"
   ]
  },
  {
   "cell_type": "markdown",
   "metadata": {
    "editable": true
   },
   "source": [
    "#### Create Keyspace"
   ]
  },
  {
   "cell_type": "code",
   "execution_count": 5,
   "metadata": {
    "editable": true
   },
   "outputs": [],
   "source": [
    "try:\n",
    "    session.execute(\"\"\"\n",
    "        CREATE KEYSPACE IF NOT EXISTS udacity \n",
    "        WITH REPLICATION = {'class': 'SimpleStrategy', 'replication_factor': 1}\n",
    "    \"\"\")\n",
    "except Exception as e:\n",
    "    print(e)\n"
   ]
  },
  {
   "cell_type": "markdown",
   "metadata": {
    "editable": true
   },
   "source": [
    "#### Set Keyspace"
   ]
  },
  {
   "cell_type": "code",
   "execution_count": 6,
   "metadata": {
    "editable": true
   },
   "outputs": [],
   "source": [
    "try:\n",
    "    session.set_keyspace('udacity')\n",
    "except Exception as e:\n",
    "    print(e)"
   ]
  },
  {
   "cell_type": "markdown",
   "metadata": {
    "editable": true
   },
   "source": [
    "### Create a mapping between column name and column index for the ease of creating tables and queries"
   ]
  },
  {
   "cell_type": "code",
   "execution_count": 7,
   "metadata": {
    "editable": true
   },
   "outputs": [],
   "source": [
    "column_dict = {\"artist\": 0, \"first_name\": 1, \"gender\": 2, \"item_in_session\": 3, \"last_name\": 4, \"length\": 5, \n",
    "               \"level\": 6, \"location\": 7, \"session_id\": 8, \"song_title\": 9, \"user_id\": 10}\n",
    "file = 'event_datafile_new.csv'"
   ]
  },
  {
   "cell_type": "markdown",
   "metadata": {
    "editable": true
   },
   "source": [
    "### Query 1: Select the artist, song title and song's length in the music app history that was heard during  sessionId = 338, and itemInSession  = 4\n",
    "\n",
    "<strong>Interpretation of query:</strong> Query 1 aims to select artist name, song title, and the length of the correspnoding song in the app histry based on a session id and the item number in the session.\n",
    "\n",
    "<strong>Expected Output</strong>\n",
    "<img src=\"images/query_1_expected_output.png\">\n",
    "\n",
    "<strong>Decision of keys:</strong> session_id and item_in_session together can uniquely identify a record in the table, hence the primary key for this table should be a composite key, i.e. <code>PRIMARY KEY((session_id, item_in_session))</code>\n",
    "\n",
    "<strong>Column Names</strong>:\n",
    "* session_id: the id of a session, data type = int\n",
    "* item in session: a unique identifier that identifies a record in a certain session, data type = int\n",
    "* artist: the name of the artist, data type = text\n",
    "* song_title: the name of the song, data type = text\n",
    "* song_length: the length of the song in the form of seconds, data type = float\n",
    "\n",
    "Step 1 for Query 1: Create a table called <code>song_by_session</code>"
   ]
  },
  {
   "cell_type": "code",
   "execution_count": 8,
   "metadata": {
    "editable": true
   },
   "outputs": [],
   "source": [
    "CREATE_TABLE_QUERY_1 = \"\"\"CREATE TABLE IF NOT EXISTS song_by_session (session_id int, item_in_session int, \n",
    "                    artist text, song_title text, length float, PRIMARY KEY((session_id, item_in_session)))\"\"\"\n",
    "try:\n",
    "    session.execute(CREATE_TABLE_QUERY_1)\n",
    "except Exception as e:\n",
    "    print(e)"
   ]
  },
  {
   "cell_type": "markdown",
   "metadata": {
    "editable": true
   },
   "source": [
    "Step 2 for Query 1: Insert records into <code>song_by_session</code>"
   ]
  },
  {
   "cell_type": "code",
   "execution_count": 9,
   "metadata": {
    "editable": true
   },
   "outputs": [],
   "source": [
    "with open(file, encoding = 'utf8') as f:\n",
    "    csvreader = csv.reader(f)\n",
    "    next(csvreader)\n",
    "    for line in csvreader:\n",
    "        query = \"INSERT INTO song_by_session (session_id, item_in_session, artist, song_title, length)\"\n",
    "        query = query + \"VALUES (%s, %s, %s, %s, %s)\"\n",
    "        session.execute(query, (int(line[column_dict[\"session_id\"]]), int(line[column_dict[\"item_in_session\"]]), line[column_dict[\"artist\"]], \n",
    "                                line[column_dict[\"song_title\"]], float(line[column_dict[\"length\"]])))"
   ]
  },
  {
   "cell_type": "markdown",
   "metadata": {
    "editable": true
   },
   "source": [
    "Step 3 for Query 1: Run query 1 to verify the results"
   ]
  },
  {
   "cell_type": "code",
   "execution_count": 10,
   "metadata": {
    "editable": true,
    "scrolled": true
   },
   "outputs": [
    {
     "name": "stdout",
     "output_type": "stream",
     "text": [
      "Faithless Music Matters (Mark Knight Dub) 495.30731201171875\n"
     ]
    }
   ],
   "source": [
    "QUERY_1 = \"\"\"SELECT artist, song_title, length FROM song_by_session WHERE session_Id = 338 AND item_in_session = 4\"\"\"\n",
    "try:\n",
    "    rows = session.execute(QUERY_1)\n",
    "except Exception as e:\n",
    "    print(e)\n",
    "\n",
    "for row in rows:\n",
    "    print(row.artist, row.song_title, row.length)"
   ]
  },
  {
   "cell_type": "markdown",
   "metadata": {
    "editable": true
   },
   "source": [
    "### Query 2: Select only the following: name of artist, song (sorted by itemInSession) and user (first and last name) for userid = 10, sessionid = 182\n",
    "\n",
    "<strong>Interpretation of query:</strong> Query 2 aims to select the artist name, the song title, and the user's first and last name by a given user id and a session id, the result will need to be sorted by the item_in_session attribute\n",
    "\n",
    "<strong>Expected Output</strong>\n",
    "<img src=\"images/query_2_expected_output.png\">\n",
    "\n",
    "<strong>Decision of keys:</strong> user_id and session_id together can uniquely identify a record in the table, hence the primary key for this table should be a composite key. item_in_session should be a clustering key to allow sorting action. Therefore, <code>PRIMARY KEY((session_id, item_in_session), item_in_session)</code>\n",
    "\n",
    "\n",
    "<strong>Column Names</strong>:\n",
    "* user_id: the id of a user, data type = int\n",
    "* session_id: the id of a session, data type = int\n",
    "* item in session: a unique identifier that identifies a record in a certain session, data type = int\n",
    "* artist: the name of the artist, data type = text\n",
    "* song_title: the name of the song, data type = text\n",
    "* first_name: the first name of a user, data type = text\n",
    "* last_name: the last name of a user, data type = text\n",
    "\n",
    "Step 1 for Query 2: create the second table (song_by_user_and_session)"
   ]
  },
  {
   "cell_type": "code",
   "execution_count": 11,
   "metadata": {
    "editable": true
   },
   "outputs": [],
   "source": [
    "CREATE_TABLE_QUERY_2 = \"\"\"CREATE TABLE IF NOT EXISTS song_by_user_and_session (user_id int, session_id int, item_in_session int, artist text, \n",
    "                        song_title text, first_name text, last_name text, PRIMARY KEY((user_id, session_id), item_in_session))\"\"\"\n",
    "try:\n",
    "    session.execute(CREATE_TABLE_QUERY_2)\n",
    "except Exception as e:\n",
    "    print(e)            "
   ]
  },
  {
   "cell_type": "markdown",
   "metadata": {
    "editable": true
   },
   "source": [
    "Step 2 for Query 2: Insert records into song_by_user_and_session"
   ]
  },
  {
   "cell_type": "code",
   "execution_count": 12,
   "metadata": {
    "editable": true
   },
   "outputs": [],
   "source": [
    "with open(file, encoding = 'utf8') as f:\n",
    "    csvreader = csv.reader(f)\n",
    "    next(csvreader) # skip header\n",
    "    for line in csvreader:\n",
    "        query = \"INSERT INTO song_by_user_and_session(user_id, session_id, item_in_session, artist, song_title, first_name, last_name)\"\n",
    "        query = query + \"VALUES (%s, %s, %s, %s, %s, %s, %s)\"\n",
    "        session.execute(query, (int(line[column_dict[\"user_id\"]]), int(line[column_dict[\"session_id\"]]), int(line[column_dict[\"item_in_session\"]]), line[column_dict[\"artist\"]], \n",
    "                                line[column_dict[\"song_title\"]], line[column_dict[\"first_name\"]], line[column_dict[\"last_name\"]]))"
   ]
  },
  {
   "cell_type": "markdown",
   "metadata": {
    "editable": true
   },
   "source": [
    "Step 3 for Query 2: execute query 2 and verify results"
   ]
  },
  {
   "cell_type": "code",
   "execution_count": 13,
   "metadata": {
    "editable": true
   },
   "outputs": [
    {
     "name": "stdout",
     "output_type": "stream",
     "text": [
      "Down To The Bone Keep On Keepin' On Sylvie Cruz\n",
      "Three Drives Greece 2000 Sylvie Cruz\n",
      "Sebastien Tellier Kilometer Sylvie Cruz\n",
      "Lonnie Gordon Catch You Baby (Steve Pitron & Max Sanna Radio Edit) Sylvie Cruz\n"
     ]
    }
   ],
   "source": [
    "QUERY_2 = \"\"\"SELECT artist, song_title, first_name, last_name FROM song_by_user_and_session WHERE user_id = 10 AND session_id = 182;\"\"\"\n",
    "try:\n",
    "    rows = session.execute(QUERY_2)\n",
    "except Exception as e:\n",
    "    print(e)\n",
    "\n",
    "for row in rows:\n",
    "    print(row.artist, row.song_title, row.first_name, row.last_name)"
   ]
  },
  {
   "cell_type": "markdown",
   "metadata": {
    "editable": true
   },
   "source": [
    "## Query 3: Select every user name (first and last) in my music app history who listened to the song 'All Hands Against His Own'\n",
    "\n",
    "<strong>Interpretation of query:</strong> query 3 aims to find out the full name of all users who listened to a certain song.\n",
    "\n",
    "<strong>Expected Output</strong>\n",
    "<img src=\"images/query_3_expected_output.png\">\n",
    "\n",
    "<strong>Decision of keys:</strong> Despite song title alone cannot uniquely identifies all records in the table, the query requires only the song title in the <code>WHERE</code>, making song title the PRIMARY Key. Since there could be multiple users listened to the same song, user_id needs to be added as a clustering key to help uniquely identify each record. Therefore, <code>PRIMARY KEY(song_title, user_id)</code>\n",
    "\n",
    "<strong>Column Names</strong>:\n",
    "* song_title: the name of the song, data type = text\n",
    "* user_id: the id of a user, data type = int\n",
    "* first_name: the first name of a user, data type = text\n",
    "* last_name: the last name of a user, data type = text\n",
    "\n",
    "Step 1 for Query 3: create the third table song_by_title"
   ]
  },
  {
   "cell_type": "code",
   "execution_count": 14,
   "metadata": {
    "editable": true
   },
   "outputs": [],
   "source": [
    "CREATE_TABLE_QUERY_3 = \"\"\"CREATE TABLE IF NOT EXISTS song_by_title (song_title text, user_id int, first_name text, last_name text, PRIMARY KEY(song_title, user_id ))\"\"\"\n",
    "try:\n",
    "    session.execute(CREATE_TABLE_QUERY_3)\n",
    "except Exception as e:\n",
    "    print(e)    \n",
    "                    "
   ]
  },
  {
   "cell_type": "markdown",
   "metadata": {
    "editable": true
   },
   "source": [
    "Step 2 for Query 3: Insert records into song_by_title"
   ]
  },
  {
   "cell_type": "code",
   "execution_count": 15,
   "metadata": {
    "editable": true
   },
   "outputs": [],
   "source": [
    "with open(file, encoding = 'utf8') as f:\n",
    "    csvreader = csv.reader(f)\n",
    "    next(csvreader) # skip header\n",
    "    for line in csvreader:\n",
    "        query = \"INSERT INTO song_by_title(song_title, user_id, first_name,last_name)\"\n",
    "        query = query + \"VALUES (%s, %s, %s, %s)\"\n",
    "        session.execute(query, (line[column_dict[\"song_title\"]], int(line[column_dict[\"user_id\"]]), line[column_dict[\"first_name\"]], line[column_dict[\"last_name\"]]))"
   ]
  },
  {
   "cell_type": "markdown",
   "metadata": {
    "editable": true
   },
   "source": [
    "Step 3 for Query 3: execute query 3 on song_by_title to obtain every user name (first and last) in my music app history who listened to the song 'All Hands Against His Own'"
   ]
  },
  {
   "cell_type": "code",
   "execution_count": 16,
   "metadata": {
    "editable": true
   },
   "outputs": [
    {
     "name": "stdout",
     "output_type": "stream",
     "text": [
      "Jacqueline Lynch\n",
      "Tegan Levine\n",
      "Sara Johnson\n"
     ]
    }
   ],
   "source": [
    "QUERY_3 = \"\"\"SELECT first_name, last_name FROM song_by_title WHERE song_title = 'All Hands Against His Own';\"\"\"\n",
    "try:\n",
    "    rows = session.execute(QUERY_3)\n",
    "except Exception as e:\n",
    "    print(e)\n",
    "\n",
    "for row in rows:\n",
    "    print(row.first_name, row.last_name)"
   ]
  },
  {
   "cell_type": "markdown",
   "metadata": {
    "editable": true
   },
   "source": [
    "### Drop the tables before closing out the sessions"
   ]
  },
  {
   "cell_type": "code",
   "execution_count": null,
   "metadata": {
    "editable": true
   },
   "outputs": [],
   "source": [
    "DROP_QUERY_1 = \"\"\"DROP TABLE IF EXISTS song_by_session;\"\"\"\n",
    "DROP_QUERY_2 = \"\"\"DROP TABLE IF EXISTS song_by_user_and_session;\"\"\"\n",
    "DROP_QUERY_3 = \"\"\"DROP TABLE IF EXISTS song_by_title;\"\"\"\n",
    "\n",
    "try:\n",
    "    session.execute(DROP_QUERY_1)\n",
    "except Exception as e:\n",
    "    print(e)\n",
    "try:\n",
    "    session.execute(DROP_QUERY_2)\n",
    "except Exception as e:\n",
    "    print(e)\n",
    "try:\n",
    "    session.execute(DROP_QUERY_3)\n",
    "except Exception as e:\n",
    "    print(e)"
   ]
  },
  {
   "cell_type": "markdown",
   "metadata": {
    "editable": true
   },
   "source": [
    "### Close the session and cluster connection¶"
   ]
  },
  {
   "cell_type": "code",
   "execution_count": null,
   "metadata": {
    "editable": true
   },
   "outputs": [],
   "source": [
    "session.shutdown()\n",
    "cluster.shutdown()"
   ]
  },
  {
   "cell_type": "code",
   "execution_count": null,
   "metadata": {
    "editable": true
   },
   "outputs": [],
   "source": []
  },
  {
   "cell_type": "code",
   "execution_count": null,
   "metadata": {
    "editable": true
   },
   "outputs": [],
   "source": []
  }
 ],
 "metadata": {
  "kernelspec": {
   "display_name": "Python 3",
   "language": "python",
   "name": "python3"
  },
  "language_info": {
   "codemirror_mode": {
    "name": "ipython",
    "version": 3
   },
   "file_extension": ".py",
   "mimetype": "text/x-python",
   "name": "python",
   "nbconvert_exporter": "python",
   "pygments_lexer": "ipython3",
   "version": "3.6.3"
  }
 },
 "nbformat": 4,
 "nbformat_minor": 4
}
